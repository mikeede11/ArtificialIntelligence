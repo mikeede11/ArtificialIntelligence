{
  "nbformat": 4,
  "nbformat_minor": 0,
  "metadata": {
    "colab": {
      "provenance": [],
      "include_colab_link": true
    },
    "kernelspec": {
      "name": "python3",
      "display_name": "Python 3"
    },
    "language_info": {
      "name": "python"
    }
  },
  "cells": [
    {
      "cell_type": "markdown",
      "metadata": {
        "id": "view-in-github",
        "colab_type": "text"
      },
      "source": [
        "<a href=\"https://colab.research.google.com/github/mikeede11/ArtificialIntelligence/blob/main/HW4/knn.ipynb\" target=\"_parent\"><img src=\"https://colab.research.google.com/assets/colab-badge.svg\" alt=\"Open In Colab\"/></a>"
      ]
    },
    {
      "cell_type": "markdown",
      "metadata": {
        "id": "PELNEMlpx2Ri"
      },
      "source": [
        "Import the libraries math (for square root and absolute value) and pandas and numpy for reading csv files."
      ]
    },
    {
      "cell_type": "code",
      "metadata": {
        "id": "mkYTODtExydl"
      },
      "source": [
        "import math\n",
        "import pandas as pd\n",
        "import numpy as np"
      ],
      "execution_count": 1,
      "outputs": []
    },
    {
      "cell_type": "markdown",
      "metadata": {
        "id": "zCgb1pGFx8od"
      },
      "source": [
        "Make an untagged vector, point, and two tagged vectors, data1 and data2:"
      ]
    },
    {
      "cell_type": "code",
      "metadata": {
        "id": "Ifbww56byViT"
      },
      "source": [
        "point = [1, 0, 0, '?'] #(an unknown tag)\n",
        "data1 = [1, 1, 1, 'M']\n",
        "data2 = [1, 3, 0, 'F']\n"
      ],
      "execution_count": 2,
      "outputs": []
    },
    {
      "cell_type": "markdown",
      "metadata": {
        "id": "2hiHzqnsyhW2"
      },
      "source": [
        "Write code to separate the data (X) from the tag (Y).  Your output should be:\n",
        "\n",
        "The vector [1, 1, 1] has tag M\n",
        "\n",
        "The vector [1, 3, 0] has tag F\n"
      ]
    },
    {
      "cell_type": "code",
      "metadata": {
        "id": "CdgKt99HyaKT",
        "colab": {
          "base_uri": "https://localhost:8080/"
        },
        "outputId": "899d9c2e-2645-4100-dcc0-15d5334ab22b"
      },
      "source": [
        "print(\"The vector \" , data1[0:-1], \" has tag \", data1[-1])\n",
        "print(\"The vector \" , data2[0:-1], \" has tag \", data2[-1])"
      ],
      "execution_count": 3,
      "outputs": [
        {
          "output_type": "stream",
          "name": "stdout",
          "text": [
            "The vector  [1, 1, 1]  has tag  M\n",
            "The vector  [1, 3, 0]  has tag  F\n"
          ]
        }
      ]
    },
    {
      "cell_type": "markdown",
      "metadata": {
        "id": "Nknnav39yb8C"
      },
      "source": [
        "Now let's classify the point as either M or F.  We'll do this by setting k = 1 and using the Euclidean distance.  We'll define that as: "
      ]
    },
    {
      "cell_type": "code",
      "metadata": {
        "id": "gT0HxYoxzG_-"
      },
      "source": [
        "def euclideanDistance(instance1, instance2, length):\n",
        "   distance = 0\n",
        "   for x in range(length):\n",
        "         #print ('x is ' , x)\n",
        "         num1=float(instance1[x])\n",
        "         num2=float(instance2[x])\n",
        "         distance = distance + pow(num1-num2, 2)\n",
        "   return math.sqrt(distance)\n"
      ],
      "execution_count": 4,
      "outputs": []
    },
    {
      "cell_type": "markdown",
      "metadata": {
        "id": "RhO3w2O4zKG8"
      },
      "source": [
        "Now, find out the distance between data1 and point and data2 and point. Output what the tag should be using euclideanDistance."
      ]
    },
    {
      "cell_type": "code",
      "metadata": {
        "id": "rzHsm2KezPie",
        "colab": {
          "base_uri": "https://localhost:8080/"
        },
        "outputId": "0b786108-7662-402a-b474-a037eaec0529"
      },
      "source": [
        "print(euclideanDistance(data1,point,3))\n",
        "print(euclideanDistance(data2,point,3))"
      ],
      "execution_count": 5,
      "outputs": [
        {
          "output_type": "stream",
          "name": "stdout",
          "text": [
            "1.4142135623730951\n",
            "3.0\n"
          ]
        }
      ]
    },
    {
      "cell_type": "markdown",
      "metadata": {
        "id": "bImk9yPazRCS"
      },
      "source": [
        "Now, let's get more data from a file, myFile.csv. This code will read it for us:"
      ]
    },
    {
      "cell_type": "code",
      "metadata": {
        "id": "xeInyfvYzbKj",
        "colab": {
          "base_uri": "https://localhost:8080/"
        },
        "outputId": "97cbe835-ed80-4abf-e4df-4eb06f4642f7"
      },
      "source": [
        "url = 'https://github.com/rosenfa/ai/blob/master/myFile.csv?raw=true'\n",
        "df=pd.read_csv(url,  header=0, error_bad_lines=False) \n",
        "#put data in dataset without header line\n",
        "dataset = np.array(df)"
      ],
      "execution_count": 6,
      "outputs": [
        {
          "output_type": "stream",
          "name": "stderr",
          "text": [
            "/usr/local/lib/python3.8/dist-packages/IPython/core/interactiveshell.py:3326: FutureWarning: The error_bad_lines argument has been deprecated and will be removed in a future version.\n",
            "\n",
            "\n",
            "  exec(code_obj, self.user_global_ns, self.user_ns)\n"
          ]
        }
      ]
    },
    {
      "cell_type": "markdown",
      "metadata": {
        "id": "X_1JLdAEzdhu"
      },
      "source": [
        "Show that you understand what you read by:\n",
        "\n",
        "1. Printing the first two vectors in the file\n",
        "2. Printing the Euclidean distance between those two vectors\n",
        "\n",
        "Here is some code which I think might help get you on your way!"
      ]
    },
    {
      "cell_type": "code",
      "metadata": {
        "id": "e4QT_37TzuWr",
        "colab": {
          "base_uri": "https://localhost:8080/"
        },
        "outputId": "1de89c48-8830-4b1d-c6f9-d95742f87f48"
      },
      "source": [
        "print(len(dataset))\n",
        "print(\"This is the 1st vector: \", dataset[0])\n",
        "print(\"This is the 2nd vector: \", dataset[1])\n",
        "print(\"This is the Eucilidean Distance between those above two vectors: \", euclideanDistance(dataset[0],dataset[1],3))"
      ],
      "execution_count": 7,
      "outputs": [
        {
          "output_type": "stream",
          "name": "stdout",
          "text": [
            "10\n",
            "This is the 1st vector:  [0 1 2 'F']\n",
            "This is the 2nd vector:  [1 5 6 'F']\n",
            "This is the Eucilidean Distance between those above two vectors:  5.744562646538029\n"
          ]
        }
      ]
    },
    {
      "cell_type": "markdown",
      "metadata": {
        "id": "Mw03nhZuEyUw"
      },
      "source": [
        "Now assume you have a new value for point:\n",
        "\n",
        "[0,0,100]\n",
        "\n",
        "How would you classify this vector using the Euclidean distance function given all of the vectors in the file?\n",
        "\n",
        "In order to help here is a hint:  \n",
        "\n",
        "We suggest defining some type of data struction to store different vectors' distances and their tags like this:"
      ]
    },
    {
      "cell_type": "code",
      "metadata": {
        "id": "oh8ym0_SE7Rb"
      },
      "source": [
        "point=[0,0,100] \n",
        "class distClass:\n",
        "    dist = -1 #distance of current point from test point\n",
        "    tag = '-' #tag of current point\n"
      ],
      "execution_count": 8,
      "outputs": []
    },
    {
      "cell_type": "markdown",
      "metadata": {
        "id": "-KZR5lxOFP2v"
      },
      "source": [
        "You can then add vector distances like this:"
      ]
    },
    {
      "cell_type": "code",
      "metadata": {
        "id": "hdFwOHcCFScU"
      },
      "source": [
        "eucDistances = [] # list of distances, will hold objects of type distClass\n",
        "def calcDistancesFromLabeledPointToUnlabeledPoints(ourPoint, labeledPoints, distanceFunction, listOfDistances):\n",
        "  #note ourPoint is passed in with the label already off, we need to take offthe label for the dataset vectors\n",
        "  lengthOfVectors = len(ourPoint)#this assumes ourPoint will have same vector length as our labeled points - which is the case for our assignment\n",
        "  for i in range(len(labeledPoints)):\n",
        "\n",
        "    temp=labeledPoints[i]\n",
        "    label=temp[-1]\n",
        "    d=distanceFunction(ourPoint,temp,lengthOfVectors)\n",
        "    # print(\"The distances between \" , ourPoint , \" and \" , temp,  \" is \" , str(d))\n",
        "    # print(\" and the label is \" + label)\n",
        "    obj = distClass() #one record's distance and tag\n",
        "    obj.dist=d\n",
        "    obj.tag=label\n",
        "    listOfDistances.append(obj)\n",
        "\n",
        "  listOfDistances.sort(key=lambda x: x.dist)\n",
        "\n",
        "calcDistancesFromLabeledPointToUnlabeledPoints(point, dataset, euclideanDistance, eucDistances)\n",
        "\n"
      ],
      "execution_count": 79,
      "outputs": []
    },
    {
      "cell_type": "code",
      "metadata": {
        "colab": {
          "base_uri": "https://localhost:8080/"
        },
        "id": "OTJBcLSJa8SR",
        "outputId": "20d64f73-b376-4491-c4b1-9cd1529adcc2"
      },
      "source": [
        "eucDistances[0].dist"
      ],
      "execution_count": 10,
      "outputs": [
        {
          "output_type": "execute_result",
          "data": {
            "text/plain": [
              "80.00624975587844"
            ]
          },
          "metadata": {},
          "execution_count": 10
        }
      ]
    },
    {
      "cell_type": "markdown",
      "metadata": {
        "id": "67seTigUFbW7"
      },
      "source": [
        "and sort them like this:"
      ]
    },
    {
      "cell_type": "code",
      "metadata": {
        "id": "J0rEdJXKFctw"
      },
      "source": [
        "eucDistances.sort(key=lambda x: x.dist) "
      ],
      "execution_count": 11,
      "outputs": []
    },
    {
      "cell_type": "markdown",
      "metadata": {
        "id": "eWzp7vM9FgLm"
      },
      "source": [
        "Questions:\n",
        "\n",
        "1. What is the label for point if k=1?\n",
        "2. What is the label for point if k=3?\n",
        "3. Would the result be different if we used a different distance function like Hamming or Manhattan?"
      ]
    },
    {
      "cell_type": "code",
      "metadata": {
        "id": "tbHJ5OS5GeCw",
        "colab": {
          "base_uri": "https://localhost:8080/"
        },
        "outputId": "932d97f9-d320-4b62-91c5-65f426513f9f"
      },
      "source": [
        "#Add code with functions that implement Hamming and Manhattan distances and test \n",
        "#what the label will be for k=1 and k=3 for all possibilities \n",
        "#(6 total: 2 Euclidean, 2 Hamming and 2 Manhattan)\n",
        "def labelElection(k, sortedArray):\n",
        "  mVotes = 0\n",
        "  fVotes = 0\n",
        "  for i in range(k):\n",
        "    if sortedArray[i].tag == 'M':\n",
        "      mVotes += 1\n",
        "    elif sortedArray[i].tag == 'F':\n",
        "      fVotes += 1\n",
        "  if mVotes > fVotes:\n",
        "    return 'M' \n",
        "  else: \n",
        "    return 'F'\n",
        "\n",
        "def hammingDistance(instance1, instance2, length):\n",
        "   distance = 0\n",
        "   for x in range(length):\n",
        "         #print ('x is ' , x)\n",
        "         num1=float(instance1[x])\n",
        "         num2=float(instance2[x])\n",
        "         distance = distance + int(num1 != num2)\n",
        "   return distance\n",
        "\n",
        "def manhattanDistance(instance1, instance2, length):\n",
        "   distance = 0\n",
        "   for x in range(length):\n",
        "         #print ('x is ' , x)\n",
        "         num1=float(instance1[x])\n",
        "         num2=float(instance2[x])\n",
        "         distance = distance + abs(num1-num2)\n",
        "   return distance\n",
        "\n",
        "hamDistances = []\n",
        "calcDistancesFromLabeledPointToUnlabeledPoints(point, dataset, hammingDistance, hamDistances)\n",
        "manDistances = []\n",
        "calcDistancesFromLabeledPointToUnlabeledPoints(point, dataset, manhattanDistance, manDistances)\n",
        "\n",
        "#Eucilidean when k = 1\n",
        "print(eucDistances[0].tag, \"is the label of \", point, \" when using Eucilidean Distance to measure similarity and K = 1\")\n",
        "#Eucilidean when k = 3\n",
        "print(labelElection(3, eucDistances), \"is the label of \", point, \" when using Eucilidean Distance to measure similarity and K = 3\")\n",
        "#Hamming when k = 1\n",
        "print(hamDistances[0].tag, \"is the label of \", point, \" when using Hamming Distance to measure similarity and K = 1\")\n",
        "#Hamming when k = 3\n",
        "print(labelElection(3, hamDistances), \"is the label of \", point, \" when using Hamming Distance to measure similarity and K = 3\")\n",
        "#Manhattan when k = 1\n",
        "print(manDistances[0].tag, \"is the label of \", point, \" when using Manhattan Distance to measure similarity and K = 1\")\n",
        "#Manhattan Distance when k = 3\n",
        "print(labelElection(3, manDistances), \"is the label of \", point, \" when using Manhattan Distance to measure similarity and K = 3\")"
      ],
      "execution_count": 70,
      "outputs": [
        {
          "output_type": "stream",
          "name": "stdout",
          "text": [
            "M is the label of  [0, 0, 100]  when using Eucilidean Distance to measure similarity and K = 1\n",
            "M is the label of  [0, 0, 100]  when using Eucilidean Distance to measure similarity and K = 3\n",
            "F is the label of  [0, 0, 100]  when using Hamming Distance to measure similarity and K = 1\n",
            "F is the label of  [0, 0, 100]  when using Hamming Distance to measure similarity and K = 3\n",
            "M is the label of  [0, 0, 100]  when using Manhattan Distance to measure similarity and K = 1\n",
            "F is the label of  [0, 0, 100]  when using Manhattan Distance to measure similarity and K = 3\n"
          ]
        }
      ]
    },
    {
      "cell_type": "markdown",
      "metadata": {
        "id": "o-XsqlSRVyEX"
      },
      "source": [
        "Up until here is a simplified version of the homework.\n",
        "Below here is the work for the part we will be checking as the basis of your grade: "
      ]
    },
    {
      "cell_type": "markdown",
      "metadata": {
        "id": "7KPzkCfLGxDK"
      },
      "source": [
        "Now let's look at some bigger files: \n",
        "\n",
        "1. mytrain.csv (for training the model)\n",
        "2. mytest.csv (for testing)\n"
      ]
    },
    {
      "cell_type": "code",
      "metadata": {
        "id": "menQ9SEoG_Ag"
      },
      "source": [
        "url = 'https://github.com/rosenfa/ai/blob/master/mytrain.csv?raw=true'\n",
        "train_data = np.array(pd.read_csv(url,  header=0, error_bad_lines=False))\n",
        "url = 'https://github.com/rosenfa/ai/blob/master/mytest.csv?raw=true'\n",
        "test_data = np.array(pd.read_csv(url,  header=0, error_bad_lines=False))"
      ],
      "execution_count": 19,
      "outputs": []
    },
    {
      "cell_type": "code",
      "metadata": {
        "id": "ej1wLymKHPnT",
        "colab": {
          "base_uri": "https://localhost:8080/"
        },
        "outputId": "f54b79e1-8464-4f46-cd72-7adf39e89433"
      },
      "source": [
        "print(train_data.shape)# number of records and features\n",
        "print(train_data)"
      ],
      "execution_count": 20,
      "outputs": [
        {
          "output_type": "stream",
          "name": "stdout",
          "text": [
            "(100, 30)\n",
            "[[0.317251 0.540016 0.150514 ... 0.0 0.212007 'F']\n",
            " [3.882181 0.0 0.0 ... 0.0 0.0 'F']\n",
            " [1.790708 0.0 0.0 ... 0.0 0.0 'F']\n",
            " ...\n",
            " [0.0 0.0 0.0 ... 0.0 0.0 'M']\n",
            " [0.0 0.0 0.0 ... 0.0 0.0 'M']\n",
            " [0.0 0.0 0.0 ... 0.0 0.0 'F']]\n"
          ]
        }
      ]
    },
    {
      "cell_type": "code",
      "metadata": {
        "id": "v9YKMlcPHVWU",
        "colab": {
          "base_uri": "https://localhost:8080/"
        },
        "outputId": "5305e149-f78b-448b-f4a8-f556ab6c228f"
      },
      "source": [
        "print(test_data.shape)# number of records and features\n",
        "print(test_data)"
      ],
      "execution_count": 21,
      "outputs": [
        {
          "output_type": "stream",
          "name": "stdout",
          "text": [
            "(100, 30)\n",
            "[[2.85985 0.66275 0.0 ... 0.995289 0.0 'F']\n",
            " [0.0 12.998726 0.0 ... 0.0 0.0 'F']\n",
            " [13.231318 0.0 0.0 ... 0.0 0.0 'F']\n",
            " ...\n",
            " [0.0 0.0 0.0 ... 0.0 0.0 'M']\n",
            " [1.688611 0.0 3.204529 ... 0.0 0.0 'M']\n",
            " [0.0 0.0 0.0 ... 0.0 0.0 'M']]\n"
          ]
        }
      ]
    },
    {
      "cell_type": "markdown",
      "metadata": {
        "id": "hsjBpdObIB7d"
      },
      "source": [
        "I hope by now you understand where we are going with this :)\n",
        "\n",
        "Now implement the knn code with 3 different values for k:\n",
        "1. k = 1\n",
        "2. k = 7\n",
        "3. k = 15\n",
        "\n",
        "and at first use the Euclidean distance.\n",
        "Classify each of the vectors in the test_data dataset using the training data from train_data.  Which value for k did the best?  What accuracy did it give you?\n",
        "\n",
        "Now see if using Hamming or Manhattan distance give any better results for the same values of k.  \n",
        "\n",
        "Once you are done, you should have a total of 9 different results:\n",
        "\n",
        "1. Three results for the different value of k using the Euclidean Distance\n",
        "2. Three results for the different value of k using the Hamming Distance\n",
        "3. Three results for the different value of k using the Manhattan Distance\n",
        "\n",
        "Hint: I strongly suggest you base yourself on the code you've seen until this point so you don't have to reinvent the wheel!"
      ]
    },
    {
      "cell_type": "code",
      "metadata": {
        "id": "dIyZbN4kJBrO",
        "colab": {
          "base_uri": "https://localhost:8080/"
        },
        "outputId": "301904e8-3d1d-41ce-95bb-c88c7818063c"
      },
      "source": [
        " #Add code here\n",
        "#for each test vector generate a sortedarray and return the label results with each of the k's increment TP/TN counter for each k for each result ( afterward div by length of test data to get accuracy )\n",
        "eucDistances = []\n",
        "manDistances = []\n",
        "hamDistances= []\n",
        "def getAccuracyWhenKis1_7_And15(distanceFunction, listOfDistances, labeledData):\n",
        "\n",
        "  k1AccuratelyPredicted = 0\n",
        "  k7AccuratelyPredicted = 0\n",
        "  k15AccuratelyPredicted = 0\n",
        "\n",
        "  for vector in test_data:\n",
        "    calcDistancesFromLabeledPointToUnlabeledPoints(vector[0:-1],labeledData, distanceFunction, listOfDistances)\n",
        "    \n",
        "    # for i in range(len(listOfDistances)):\n",
        "    #   print(round(listOfDistances[i].dist, 2), \" - \", listOfDistances[i].tag, end =\"\")\n",
        "    # print(\"|\")\n",
        "    \n",
        "\n",
        "    if labelElection(1, listOfDistances) == vector[-1]:\n",
        "      k1AccuratelyPredicted += 1\n",
        "    if labelElection(7, listOfDistances) == vector[-1]:\n",
        "      k7AccuratelyPredicted += 1\n",
        "    if labelElection(15, listOfDistances) == vector[-1]:\n",
        "      k15AccuratelyPredicted += 1\n",
        "    listOfDistances.clear()#!!!!!!!!!!!!!!!!!! AVOIDS MAJOR BUG\n",
        "\n",
        "  #accuracy is defined as TP + TN / all instances. \n",
        "  #For each k we maintained a counter that showed how many times the k predicted the actual - this enables us to calculate accuracy respectively below\n",
        "  k1Accuracy = k1AccuratelyPredicted / len(labeledData)\n",
        "  k7Accuracy = k7AccuratelyPredicted / len(labeledData)\n",
        "  k15Accuracy = k15AccuratelyPredicted / len(labeledData)\n",
        "  print(\"When K = 1, \", distanceFunction.__name__, \"was \" , k1Accuracy * 100, \"% accurate\")\n",
        "  print(\"When K = 7, \", distanceFunction.__name__, \"was \" , round(k7Accuracy * 100, 2), \"% accurate\")\n",
        "  print(\"When K = 15, \", distanceFunction.__name__, \"was \" , round(k15Accuracy * 100, 2), \"% accurate\")\n",
        "\n",
        "  if k1Accuracy > k7Accuracy and k1Accuracy > k15Accuracy:\n",
        "    print(\"K = 1 was the most accurate when using \", distanceFunction.__name__)\n",
        "  elif k7Accuracy > k15Accuracy:\n",
        "    print(\"K = 7 was the most accurate when using \", distanceFunction.__name__)\n",
        "  else:\n",
        "    print(\"K = 15 was the most accurate (or tied) when using \", distanceFunction.__name__)\n",
        "getAccuracyWhenKis1_7_And15(euclideanDistance, eucDistances, train_data)\n",
        "getAccuracyWhenKis1_7_And15(hammingDistance,  hamDistances, train_data)\n",
        "getAccuracyWhenKis1_7_And15(manhattanDistance, manDistances, train_data )\n"
      ],
      "execution_count": 87,
      "outputs": [
        {
          "output_type": "stream",
          "name": "stdout",
          "text": [
            "When K = 1,  euclideanDistance was  50.0 % accurate\n",
            "When K = 7,  euclideanDistance was  74.0 % accurate\n",
            "When K = 15,  euclideanDistance was  70.0 % accurate\n",
            "K = 7 was the most accurate when using  euclideanDistance\n",
            "When K = 1,  hammingDistance was  61.0 % accurate\n",
            "When K = 7,  hammingDistance was  55.0 % accurate\n",
            "When K = 15,  hammingDistance was  57.0 % accurate\n",
            "K = 1 was the most accurate when using  hammingDistance\n",
            "When K = 1,  manhattanDistance was  61.0 % accurate\n",
            "When K = 7,  manhattanDistance was  63.0 % accurate\n",
            "When K = 15,  manhattanDistance was  69.0 % accurate\n",
            "K = 15 was the most accurate (or tied) when using  manhattanDistance\n"
          ]
        }
      ]
    },
    {
      "cell_type": "markdown",
      "metadata": {
        "id": "HD2PnNuTQ175"
      },
      "source": [
        "Grade Basis:\n",
        "\n",
        "80% for correct answers (and yes, there are possibilities that multiple answers are correct-- especially for cases of ties).\n",
        "\n",
        "20% : Documentation and easily readable code\n",
        "\n",
        "Please publish your final Notebook in your Github directory.\n",
        "\n",
        "The homework assignment is due by November 30th.\n"
      ]
    }
  ]
}