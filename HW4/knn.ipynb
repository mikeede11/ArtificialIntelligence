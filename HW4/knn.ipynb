{
  "nbformat": 4,
  "nbformat_minor": 0,
  "metadata": {
    "colab": {
      "provenance": [],
      "include_colab_link": true
    },
    "kernelspec": {
      "name": "python3",
      "display_name": "Python 3"
    },
    "language_info": {
      "name": "python"
    }
  },
  "cells": [
    {
      "cell_type": "markdown",
      "metadata": {
        "id": "view-in-github",
        "colab_type": "text"
      },
      "source": [
        "<a href=\"https://colab.research.google.com/github/mikeede11/ArtificialIntelligence/blob/main/HW4/knn.ipynb\" target=\"_parent\"><img src=\"https://colab.research.google.com/assets/colab-badge.svg\" alt=\"Open In Colab\"/></a>"
      ]
    },
    {
      "cell_type": "markdown",
      "metadata": {
        "id": "PELNEMlpx2Ri"
      },
      "source": [
        "Import the libraries math (for square root and absolute value) and pandas and numpy for reading csv files."
      ]
    },
    {
      "cell_type": "code",
      "metadata": {
        "id": "mkYTODtExydl"
      },
      "source": [
        "import math\n",
        "import pandas as pd\n",
        "import numpy as np"
      ],
      "execution_count": 2,
      "outputs": []
    },
    {
      "cell_type": "markdown",
      "metadata": {
        "id": "zCgb1pGFx8od"
      },
      "source": [
        "Make an untagged vector, point, and two tagged vectors, data1 and data2:"
      ]
    },
    {
      "cell_type": "code",
      "metadata": {
        "id": "Ifbww56byViT"
      },
      "source": [
        "point = [1, 0, 0, '?'] #(an unknown tag)\n",
        "data1 = [1, 1, 1, 'M']\n",
        "data2 = [1, 3, 0, 'F']\n"
      ],
      "execution_count": 3,
      "outputs": []
    },
    {
      "cell_type": "markdown",
      "metadata": {
        "id": "2hiHzqnsyhW2"
      },
      "source": [
        "Write code to separate the data (X) from the tag (Y).  Your output should be:\n",
        "\n",
        "The vector [1, 1, 1] has tag M\n",
        "\n",
        "The vector [1, 3, 0] has tag F\n"
      ]
    },
    {
      "cell_type": "code",
      "metadata": {
        "id": "CdgKt99HyaKT",
        "colab": {
          "base_uri": "https://localhost:8080/"
        },
        "outputId": "c2785d84-c25f-4ea4-a85e-4f436325d5dd"
      },
      "source": [
        "print(\"The vector \" , data1[0:-1], \" has tag \", data1[-1])\n",
        "print(\"The vector \" , data2[0:-1], \" has tag \", data2[-1])"
      ],
      "execution_count": 4,
      "outputs": [
        {
          "output_type": "stream",
          "name": "stdout",
          "text": [
            "The vector  [1, 1, 1]  has tag  M\n",
            "The vector  [1, 3, 0]  has tag  F\n"
          ]
        }
      ]
    },
    {
      "cell_type": "markdown",
      "metadata": {
        "id": "Nknnav39yb8C"
      },
      "source": [
        "Now let's classify the point as either M or F.  We'll do this by setting k = 1 and using the Euclidean distance.  We'll define that as: "
      ]
    },
    {
      "cell_type": "code",
      "metadata": {
        "id": "gT0HxYoxzG_-"
      },
      "source": [
        "def euclideanDistance(instance1, instance2, length):\n",
        "   distance = 0\n",
        "   for x in range(length):\n",
        "         #print ('x is ' , x)\n",
        "         num1=float(instance1[x])\n",
        "         num2=float(instance2[x])\n",
        "         distance = distance + pow(num1-num2, 2)\n",
        "   return math.sqrt(distance)\n"
      ],
      "execution_count": 5,
      "outputs": []
    },
    {
      "cell_type": "markdown",
      "metadata": {
        "id": "RhO3w2O4zKG8"
      },
      "source": [
        "Now, find out the distance between data1 and point and data2 and point. Output what the tag should be using euclideanDistance."
      ]
    },
    {
      "cell_type": "code",
      "metadata": {
        "id": "rzHsm2KezPie",
        "colab": {
          "base_uri": "https://localhost:8080/"
        },
        "outputId": "ffd2d762-076c-4b85-bf2f-5229316ae60b"
      },
      "source": [
        "print(euclideanDistance(data1,point,3))\n",
        "print(euclideanDistance(data2,point,3))"
      ],
      "execution_count": 6,
      "outputs": [
        {
          "output_type": "stream",
          "name": "stdout",
          "text": [
            "1.4142135623730951\n",
            "3.0\n"
          ]
        }
      ]
    },
    {
      "cell_type": "markdown",
      "metadata": {
        "id": "bImk9yPazRCS"
      },
      "source": [
        "Now, let's get more data from a file, myFile.csv. This code will read it for us:"
      ]
    },
    {
      "cell_type": "code",
      "metadata": {
        "id": "xeInyfvYzbKj",
        "colab": {
          "base_uri": "https://localhost:8080/"
        },
        "outputId": "d3a7c00f-773a-4d9f-f954-df94ca7ea286"
      },
      "source": [
        "url = 'https://github.com/rosenfa/ai/blob/master/myFile.csv?raw=true'\n",
        "df=pd.read_csv(url,  header=0, error_bad_lines=False) \n",
        "#put data in dataset without header line\n",
        "dataset = np.array(df)"
      ],
      "execution_count": 7,
      "outputs": [
        {
          "output_type": "stream",
          "name": "stderr",
          "text": [
            "/usr/local/lib/python3.8/dist-packages/IPython/core/interactiveshell.py:3326: FutureWarning: The error_bad_lines argument has been deprecated and will be removed in a future version.\n",
            "\n",
            "\n",
            "  exec(code_obj, self.user_global_ns, self.user_ns)\n"
          ]
        }
      ]
    },
    {
      "cell_type": "markdown",
      "metadata": {
        "id": "X_1JLdAEzdhu"
      },
      "source": [
        "Show that you understand what you read by:\n",
        "\n",
        "1. Printing the first two vectors in the file\n",
        "2. Printing the Euclidean distance between those two vectors\n",
        "\n",
        "Here is some code which I think might help get you on your way!"
      ]
    },
    {
      "cell_type": "code",
      "metadata": {
        "id": "e4QT_37TzuWr",
        "colab": {
          "base_uri": "https://localhost:8080/"
        },
        "outputId": "1010d8ad-fd7d-4560-cd7f-cba8d1d1c5b7"
      },
      "source": [
        "print(len(dataset))\n",
        "print(\"This is the 1st vector: \", dataset[0])\n",
        "print(\"This is the 2nd vector: \", dataset[1])\n",
        "print(\"This is the Eucilidean Distance between those above two vectors: \", euclideanDistance(dataset[0],dataset[1],3))"
      ],
      "execution_count": 8,
      "outputs": [
        {
          "output_type": "stream",
          "name": "stdout",
          "text": [
            "10\n",
            "This is the 1st vector:  [0 1 2 'F']\n",
            "This is the 2nd vector:  [1 5 6 'F']\n",
            "This is the Eucilidean Distance between those above two vectors:  5.744562646538029\n"
          ]
        }
      ]
    },
    {
      "cell_type": "markdown",
      "metadata": {
        "id": "Mw03nhZuEyUw"
      },
      "source": [
        "Now assume you have a new value for point:\n",
        "\n",
        "[0,0,100]\n",
        "\n",
        "How would you classify this vector using the Euclidean distance function given all of the vectors in the file?\n",
        "\n",
        "In order to help here is a hint:  \n",
        "\n",
        "We suggest defining some type of data struction to store different vectors' distances and their tags like this:"
      ]
    },
    {
      "cell_type": "code",
      "metadata": {
        "id": "oh8ym0_SE7Rb"
      },
      "source": [
        "point=[0,0,100] \n",
        "class distClass:\n",
        "    dist = -1 #distance of current point from test point\n",
        "    tag = '-' #tag of current point\n"
      ],
      "execution_count": 9,
      "outputs": []
    },
    {
      "cell_type": "markdown",
      "metadata": {
        "id": "-KZR5lxOFP2v"
      },
      "source": [
        "You can then add vector distances like this:"
      ]
    },
    {
      "cell_type": "code",
      "metadata": {
        "colab": {
          "base_uri": "https://localhost:8080/"
        },
        "id": "hdFwOHcCFScU",
        "outputId": "0d3550c0-839c-48d8-dc3f-d45b4018ef36"
      },
      "source": [
        "eucDistances = [] # list of distances, will hold objects of type distClass\n",
        "def calcDistancesFromLabeledPointToUnlabeledPoints(ourPoint, labeledPoints, distanceFunction, listOfDistances):\n",
        "\n",
        "  for i in range(len(labeledPoints)):\n",
        "\n",
        "    temp=labeledPoints[i]\n",
        "    label=temp[-1]\n",
        "    d=distanceFunction(point,temp,3)\n",
        "    print(\"The distances between \" , ourPoint , \" and \" , temp,  \" is \" , str(d))\n",
        "    print(\" and the label is \" + label)\n",
        "    obj = distClass() #one record's distance and tag\n",
        "    obj.dist=d\n",
        "    obj.tag=label\n",
        "    listOfDistances.append(obj)\n",
        "\n",
        "  listOfDistances.sort(key=lambda x: x.dist)\n",
        "\n",
        "calcDistancesFromLabeledPointToUnlabeledPoints(point, dataset, euclideanDistance, eucDistances)\n",
        "\n"
      ],
      "execution_count": 12,
      "outputs": [
        {
          "output_type": "stream",
          "name": "stdout",
          "text": [
            "The distances between  [0, 0, 100]  and  [0 1 2 'F']  is  98.00510190801293\n",
            " and the label is F\n",
            "The distances between  [0, 0, 100]  and  [1 5 6 'F']  is  94.13819628609845\n",
            " and the label is F\n",
            "The distances between  [0, 0, 100]  and  [1 40 1 'M']  is  106.78014796768171\n",
            " and the label is M\n",
            "The distances between  [0, 0, 100]  and  [2 2 2 'F']  is  98.04080783020915\n",
            " and the label is F\n",
            "The distances between  [0, 0, 100]  and  [0 1 20 'M']  is  80.00624975587844\n",
            " and the label is M\n",
            "The distances between  [0, 0, 100]  and  [1 5 6 'M']  is  94.13819628609845\n",
            " and the label is M\n",
            "The distances between  [0, 0, 100]  and  [1 4 1 'M']  is  99.08582138732059\n",
            " and the label is M\n",
            "The distances between  [0, 0, 100]  and  [2 22 2 'F']  is  100.45894683899488\n",
            " and the label is F\n",
            "The distances between  [0, 0, 100]  and  [2 23 2 'M']  is  100.68266980965493\n",
            " and the label is M\n",
            "The distances between  [0, 0, 100]  and  [2 24 2 'M']  is  100.91580649234291\n",
            " and the label is M\n"
          ]
        }
      ]
    },
    {
      "cell_type": "code",
      "metadata": {
        "colab": {
          "base_uri": "https://localhost:8080/"
        },
        "id": "OTJBcLSJa8SR",
        "outputId": "d8e45ed2-e513-46f6-d716-6fbf926fbe3f"
      },
      "source": [
        "eucDistances[0].dist"
      ],
      "execution_count": 13,
      "outputs": [
        {
          "output_type": "execute_result",
          "data": {
            "text/plain": [
              "80.00624975587844"
            ]
          },
          "metadata": {},
          "execution_count": 13
        }
      ]
    },
    {
      "cell_type": "markdown",
      "metadata": {
        "id": "67seTigUFbW7"
      },
      "source": [
        "and sort them like this:"
      ]
    },
    {
      "cell_type": "code",
      "metadata": {
        "id": "J0rEdJXKFctw"
      },
      "source": [
        "eucDistances.sort(key=lambda x: x.dist) "
      ],
      "execution_count": null,
      "outputs": []
    },
    {
      "cell_type": "markdown",
      "metadata": {
        "id": "eWzp7vM9FgLm"
      },
      "source": [
        "Questions:\n",
        "\n",
        "1. What is the label for point if k=1?\n",
        "2. What is the label for point if k=3?\n",
        "3. Would the result be different if we used a different distance function like Hamming or Manhattan?"
      ]
    },
    {
      "cell_type": "code",
      "metadata": {
        "id": "tbHJ5OS5GeCw",
        "outputId": "8c3f2bda-d6c8-494a-ca18-0728ae836027",
        "colab": {
          "base_uri": "https://localhost:8080/"
        }
      },
      "source": [
        "#Add code with functions that implement Hamming and Manhattan distances and test \n",
        "#what the label will be for k=1 and k=3 for all possibilities \n",
        "#(6 total: 2 Euclidean, 2 Hamming and 2 Manhattan)\n",
        "def labelElection(k, sortedArray):\n",
        "  mVotes = 0\n",
        "  fVotes = 0\n",
        "  for i in range(k):\n",
        "    if sortedArray[i].tag == 'M':\n",
        "      mVotes += 1\n",
        "    elif sortedArray[i].tag == 'F':\n",
        "      fVotes += 1\n",
        "  if mVotes > fVotes: return 'M' \n",
        "  else: return 'F'\n",
        "\n",
        "def hammingDistance(instance1, instance2, length):\n",
        "   distance = 0\n",
        "   for x in range(length):\n",
        "         #print ('x is ' , x)\n",
        "         num1=float(instance1[x])\n",
        "         num2=float(instance2[x])\n",
        "         distance = distance + int(num1 != num2)\n",
        "   return distance\n",
        "\n",
        "def manhattanDistance(instance1, instance2, length):\n",
        "   distance = 0\n",
        "   for x in range(length):\n",
        "         #print ('x is ' , x)\n",
        "         num1=float(instance1[x])\n",
        "         num2=float(instance2[x])\n",
        "         distance = distance + abs(num1-num2)\n",
        "   return distance\n",
        "\n",
        "hamDistances = []\n",
        "calcDistancesFromLabeledPointToUnlabeledPoints(point, dataset, hammingDistance, hamDistances)\n",
        "manDistances = []\n",
        "calcDistancesFromLabeledPointToUnlabeledPoints(point, dataset, manhattanDistance, manDistances)\n",
        "\n",
        "#Eucilidean when k = 1\n",
        "print(eucDistances[0].tag, \"is the label of \", point, \" when using Eucilidean Distance to measure similarity and K = 1\")\n",
        "#Eucilidean when k = 3\n",
        "print(labelElection(3, eucDistances), \"is the label of \", point, \" when using Eucilidean Distance to measure similarity and K = 3\")\n",
        "#Hamming when k = 1\n",
        "print(hamDistances[0].tag, \"is the label of \", point, \" when using Hamming Distance to measure similarity and K = 1\")\n",
        "#Hamming when k = 3\n",
        "print(labelElection(3, hamDistances), \"is the label of \", point, \" when using Hamming Distance to measure similarity and K = 3\")\n",
        "#Manhattan when k = 1\n",
        "print(manDistances[0].tag, \"is the label of \", point, \" when using Manhattan Distance to measure similarity and K = 1\")\n",
        "#Manhattan Distance when k = 3\n",
        "print(labelElection(3, manDistances), \"is the label of \", point, \" when using Manhattan Distance to measure similarity and K = 3\")"
      ],
      "execution_count": 15,
      "outputs": [
        {
          "output_type": "stream",
          "name": "stdout",
          "text": [
            "The distances between  [0, 0, 100]  and  [0 1 2 'F']  is  2\n",
            " and the label is F\n",
            "The distances between  [0, 0, 100]  and  [1 5 6 'F']  is  3\n",
            " and the label is F\n",
            "The distances between  [0, 0, 100]  and  [1 40 1 'M']  is  3\n",
            " and the label is M\n",
            "The distances between  [0, 0, 100]  and  [2 2 2 'F']  is  3\n",
            " and the label is F\n",
            "The distances between  [0, 0, 100]  and  [0 1 20 'M']  is  2\n",
            " and the label is M\n",
            "The distances between  [0, 0, 100]  and  [1 5 6 'M']  is  3\n",
            " and the label is M\n",
            "The distances between  [0, 0, 100]  and  [1 4 1 'M']  is  3\n",
            " and the label is M\n",
            "The distances between  [0, 0, 100]  and  [2 22 2 'F']  is  3\n",
            " and the label is F\n",
            "The distances between  [0, 0, 100]  and  [2 23 2 'M']  is  3\n",
            " and the label is M\n",
            "The distances between  [0, 0, 100]  and  [2 24 2 'M']  is  3\n",
            " and the label is M\n",
            "The distances between  [0, 0, 100]  and  [0 1 2 'F']  is  99.0\n",
            " and the label is F\n",
            "The distances between  [0, 0, 100]  and  [1 5 6 'F']  is  100.0\n",
            " and the label is F\n",
            "The distances between  [0, 0, 100]  and  [1 40 1 'M']  is  140.0\n",
            " and the label is M\n",
            "The distances between  [0, 0, 100]  and  [2 2 2 'F']  is  102.0\n",
            " and the label is F\n",
            "The distances between  [0, 0, 100]  and  [0 1 20 'M']  is  81.0\n",
            " and the label is M\n",
            "The distances between  [0, 0, 100]  and  [1 5 6 'M']  is  100.0\n",
            " and the label is M\n",
            "The distances between  [0, 0, 100]  and  [1 4 1 'M']  is  104.0\n",
            " and the label is M\n",
            "The distances between  [0, 0, 100]  and  [2 22 2 'F']  is  122.0\n",
            " and the label is F\n",
            "The distances between  [0, 0, 100]  and  [2 23 2 'M']  is  123.0\n",
            " and the label is M\n",
            "The distances between  [0, 0, 100]  and  [2 24 2 'M']  is  124.0\n",
            " and the label is M\n",
            "M is the label of  [0, 0, 100]  when using Eucilidean Distance to measure similarity and K = 1\n",
            "M is the label of  [0, 0, 100]  when using Eucilidean Distance to measure similarity and K = 3\n",
            "F is the label of  [0, 0, 100]  when using Hamming Distance to measure similarity and K = 1\n",
            "F is the label of  [0, 0, 100]  when using Hamming Distance to measure similarity and K = 3\n",
            "M is the label of  [0, 0, 100]  when using Manhattan Distance to measure similarity and K = 1\n",
            "F is the label of  [0, 0, 100]  when using Manhattan Distance to measure similarity and K = 3\n"
          ]
        }
      ]
    },
    {
      "cell_type": "markdown",
      "metadata": {
        "id": "o-XsqlSRVyEX"
      },
      "source": [
        "Up until here is a simplified version of the homework.\n",
        "Below here is the work for the part we will be checking as the basis of your grade: "
      ]
    },
    {
      "cell_type": "markdown",
      "metadata": {
        "id": "7KPzkCfLGxDK"
      },
      "source": [
        "Now let's look at some bigger files: \n",
        "\n",
        "1. mytrain.csv (for training the model)\n",
        "2. mytest.csv (for testing)\n"
      ]
    },
    {
      "cell_type": "code",
      "metadata": {
        "id": "menQ9SEoG_Ag"
      },
      "source": [
        "url = 'https://github.com/rosenfa/ai/blob/master/mytrain.csv?raw=true'\n",
        "train_data = np.array(pd.read_csv(url,  header=0, error_bad_lines=False))\n",
        "url = 'https://github.com/rosenfa/ai/blob/master/mytest.csv?raw=true'\n",
        "test_data = np.array(pd.read_csv(url,  header=0, error_bad_lines=False))"
      ],
      "execution_count": null,
      "outputs": []
    },
    {
      "cell_type": "code",
      "metadata": {
        "id": "ej1wLymKHPnT",
        "colab": {
          "base_uri": "https://localhost:8080/"
        },
        "outputId": "3ec274f5-b280-4ca6-8fc0-7a37a9fec79d"
      },
      "source": [
        "print(train_data.shape)# number of records and features\n",
        "print(train_data)"
      ],
      "execution_count": null,
      "outputs": [
        {
          "output_type": "stream",
          "text": [
            "(100, 30)\n",
            "[[0.317251 0.5400159999999999 0.150514 ... 0.0 0.21200700000000003 'F']\n",
            " [3.8821809999999997 0.0 0.0 ... 0.0 0.0 'F']\n",
            " [1.7907080000000002 0.0 0.0 ... 0.0 0.0 'F']\n",
            " ...\n",
            " [0.0 0.0 0.0 ... 0.0 0.0 'M']\n",
            " [0.0 0.0 0.0 ... 0.0 0.0 'M']\n",
            " [0.0 0.0 0.0 ... 0.0 0.0 'F']]\n"
          ],
          "name": "stdout"
        }
      ]
    },
    {
      "cell_type": "code",
      "metadata": {
        "id": "v9YKMlcPHVWU",
        "colab": {
          "base_uri": "https://localhost:8080/"
        },
        "outputId": "3f7b6fde-0344-4b74-ecdc-497de76a56d3"
      },
      "source": [
        "print(test_data.shape)# number of records and features\n",
        "print(test_data)"
      ],
      "execution_count": null,
      "outputs": [
        {
          "output_type": "stream",
          "text": [
            "(100, 30)\n",
            "[[2.85985 0.66275 0.0 ... 0.995289 0.0 'F']\n",
            " [0.0 12.998726 0.0 ... 0.0 0.0 'F']\n",
            " [13.231318 0.0 0.0 ... 0.0 0.0 'F']\n",
            " ...\n",
            " [0.0 0.0 0.0 ... 0.0 0.0 'M']\n",
            " [1.688611 0.0 3.204529 ... 0.0 0.0 'M']\n",
            " [0.0 0.0 0.0 ... 0.0 0.0 'M']]\n"
          ],
          "name": "stdout"
        }
      ]
    },
    {
      "cell_type": "markdown",
      "metadata": {
        "id": "hsjBpdObIB7d"
      },
      "source": [
        "I hope by now you understand where we are going with this :)\n",
        "\n",
        "Now implement the knn code with 3 different values for k:\n",
        "1. k = 1\n",
        "2. k = 7\n",
        "3. k = 15\n",
        "\n",
        "and at first use the Euclidean distance.\n",
        "Classify each of the vectors in the test_data dataset using the training data from train_data.  Which value for k did the best?  What accuracy did it give you?\n",
        "\n",
        "Now see if using Hamming or Manhattan distance give any better results for the same values of k.  \n",
        "\n",
        "Once you are done, you should have a total of 9 different results:\n",
        "\n",
        "1. Three results for the different value of k using the Euclidean Distance\n",
        "2. Three results for the different value of k using the Hamming Distance\n",
        "3. Three results for the different value of k using the Manhattan Distance\n",
        "\n",
        "Hint: I strongly suggest you base yourself on the code you've seen until this point so you don't have to reinvent the wheel!"
      ]
    },
    {
      "cell_type": "code",
      "metadata": {
        "id": "dIyZbN4kJBrO"
      },
      "source": [
        "#Add code here"
      ],
      "execution_count": null,
      "outputs": []
    },
    {
      "cell_type": "markdown",
      "metadata": {
        "id": "HD2PnNuTQ175"
      },
      "source": [
        "Grade Basis:\n",
        "\n",
        "80% for correct answers (and yes, there are possibilities that multiple answers are correct-- especially for cases of ties).\n",
        "\n",
        "20% : Documentation and easily readable code\n",
        "\n",
        "Please publish your final Notebook in your Github directory.\n",
        "\n",
        "The homework assignment is due by November 30th.\n"
      ]
    }
  ]
}